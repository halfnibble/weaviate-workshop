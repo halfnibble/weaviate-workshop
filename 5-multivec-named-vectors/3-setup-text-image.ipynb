{
 "cells": [
  {
   "cell_type": "code",
   "execution_count": null,
   "metadata": {},
   "outputs": [],
   "source": [
    "%store -r WEAVIATE_IP\n",
    "from boto3 import Session\n",
    "\n",
    "session = Session()\n",
    "credentials = session.get_credentials()\n",
    "current_credentials = credentials.get_frozen_credentials()\n",
    "\n",
    "AWS_ACCESS_KEY = current_credentials.access_key\n",
    "AWS_SECRET_KEY = current_credentials.secret_key\n",
    "AWS_SECRET_TOKEN = current_credentials.token\n",
    "print(f\"AWS_ACCESS_KEY:\\t{AWS_ACCESS_KEY}\")\n",
    "print(f\"AWS_SECRET_KEY:\\t{AWS_SECRET_KEY}\")\n",
    "print(f\"AWS_SECRET_TOKEN:\\t{AWS_SECRET_TOKEN}\")\n",
    "print(f\"WEAVIATE_IP:\\t{WEAVIATE_IP}\")"
   ]
  },
  {
   "cell_type": "markdown",
   "metadata": {},
   "source": [
    "## Multimodal Scenario\n",
    "\n",
    "### Vectorize images with CLIP\n",
    "CLIP can only be used with a local deployment using Docker Compose."
   ]
  },
  {
   "cell_type": "markdown",
   "metadata": {},
   "source": [
    "## Connect"
   ]
  },
  {
   "cell_type": "code",
   "execution_count": null,
   "metadata": {},
   "outputs": [],
   "source": [
    "import weaviate\n",
    "\n",
    "client = weaviate.connect_to_custom(\n",
    "    http_host=WEAVIATE_IP, http_port=\"8080\",  http_secure=False,\n",
    "    grpc_host=WEAVIATE_IP, grpc_port=\"50051\", grpc_secure=False,\n",
    "\n",
    "    headers={\n",
    "        \"X-AWS-Access-Key\": AWS_ACCESS_KEY,\n",
    "        \"X-AWS-Secret-Key\": AWS_SECRET_KEY,\n",
    "        \"X-AWS-Session-Token\": AWS_SECRET_TOKEN,\n",
    "    }\n",
    ")\n",
    "\n",
    "client.is_ready()"
   ]
  },
  {
   "cell_type": "markdown",
   "metadata": {},
   "source": [
    "## Create a new collection"
   ]
  },
  {
   "cell_type": "code",
   "execution_count": null,
   "metadata": {},
   "outputs": [],
   "source": [
    "from weaviate.classes.config import Configure, Property, DataType, Multi2VecField\n",
    "\n",
    "client.collections.delete(\"MoviesMM\")\n",
    "\n",
    "client.collections.create(\n",
    "    name=\"MoviesMM\",\n",
    "    properties=[ # optional\n",
    "        Property(name=\"title\", data_type=DataType.TEXT),\n",
    "        Property(name=\"overview\", data_type=DataType.TEXT),\n",
    "        Property(name=\"rating\", data_type=DataType.NUMBER),\n",
    "        Property(name=\"release_date\", data_type=DataType.DATE),\n",
    "        Property(name=\"tmdb_id\", data_type=DataType.INT),\n",
    "        Property(name=\"poster_url\", data_type=DataType.TEXT),\n",
    "        Property(name=\"poster\", data_type=DataType.BLOB),\n",
    "    ],\n",
    "\n",
    "    # Define & configure the vectorizer module\n",
    "    vectorizer_config=[\n",
    "        # Vectorize the movie title and summary with the Titan model\n",
    "        Configure.NamedVectors.text2vec_aws(\n",
    "            name=\"content\",\n",
    "            source_properties=[\"title\", \"overview\"],\n",
    "\n",
    "            model=\"amazon.titan-embed-text-v1\",\n",
    "            region=\"us-west-2\",\n",
    "        ),\n",
    "\n",
    "        # Vectorize the movie poster (image)\n",
    "        Configure.NamedVectors.multi2vec_clip(\n",
    "            name=\"poster\",\n",
    "            image_fields=[\"poster\"]\n",
    "            # image_fields=[\n",
    "            #     Multi2VecField(name=\"poster\", weight=0.9)\n",
    "            # ],\n",
    "            # text_fields=[\n",
    "            #     Multi2VecField(name=\"title\", weight=0.1)\n",
    "            # ],\n",
    "        )\n",
    "    ],\n",
    ")"
   ]
  },
  {
   "cell_type": "markdown",
   "metadata": {},
   "source": [
    "## Load data"
   ]
  },
  {
   "cell_type": "code",
   "execution_count": null,
   "metadata": {},
   "outputs": [],
   "source": [
    "import pandas as pd\n",
    "\n",
    "# df = pd.read_json(\"./data/movies_data_1990_2024.json\")\n",
    "df = pd.read_json(\"./data/movies_data_small.json\")\n",
    "df.head()"
   ]
  },
  {
   "cell_type": "markdown",
   "metadata": {},
   "source": [
    "### Example of loading images from the Internet\n",
    "> We won't use it for import for this project, as that could get flagged by tmdb servers as an attack"
   ]
  },
  {
   "cell_type": "code",
   "execution_count": null,
   "metadata": {},
   "outputs": [],
   "source": [
    "import base64, requests\n",
    "\n",
    "def url_to_base64(url):\n",
    "    image_response = requests.get(url)\n",
    "    content = image_response.content\n",
    "    return base64.b64encode(content).decode(\"utf-8\")\n",
    "\n",
    "url_to_base64(\"https://image.tmdb.org/t/p/w600_and_h900_bestv2/1RFIbuW9Z3eN9Oxw2KaQG5DfLmD.jpg\")"
   ]
  },
  {
   "cell_type": "code",
   "execution_count": null,
   "metadata": {
    "scrolled": true
   },
   "outputs": [],
   "source": [
    "from datetime import datetime, timezone\n",
    "\n",
    "# test top 3 items\n",
    "for i, movie in enumerate(df.head(3).itertuples(index=False)):\n",
    "    poster_path = f\"https://image.tmdb.org/t/p/w600_and_h900_bestv2{movie.poster_path}\"\n",
    "    poster = url_to_base64(poster_path)\n",
    "\n",
    "    print(movie.title)\n",
    "    print(poster_path)\n",
    "    print(poster, \"\\n\")"
   ]
  },
  {
   "cell_type": "markdown",
   "metadata": {},
   "source": [
    "### Load poster images from a local folder"
   ]
  },
  {
   "cell_type": "code",
   "execution_count": null,
   "metadata": {
    "scrolled": true
   },
   "outputs": [],
   "source": [
    "import base64\n",
    "\n",
    "# Helper function to convert a file to base64 representation\n",
    "def toBase64(path):\n",
    "    with open(path, 'rb') as file:\n",
    "        return base64.b64encode(file.read()).decode('utf-8')\n",
    "    \n",
    "toBase64(\"./posters/162_poster.jpg\")"
   ]
  },
  {
   "cell_type": "code",
   "execution_count": null,
   "metadata": {},
   "outputs": [],
   "source": [
    "from datetime import datetime, timezone\n",
    "from pathlib import Path\n",
    "\n",
    "# test top 3 items\n",
    "for i, movie in enumerate(df.head(3).itertuples(index=False)):\n",
    "    poster_path = f\"https://image.tmdb.org/t/p/w600_and_h900_bestv2{movie.poster_path}\"\n",
    "    posterb64 = toBase64(f\"./posters/{movie.id}_poster.jpg\")\n",
    "\n",
    "    print(movie.title)\n",
    "    print(poster_path)\n",
    "    print(posterb64, \"\\n\")"
   ]
  },
  {
   "cell_type": "markdown",
   "metadata": {},
   "source": [
    "### Insert with Batch"
   ]
  },
  {
   "cell_type": "code",
   "execution_count": null,
   "metadata": {},
   "outputs": [],
   "source": [
    "from datetime import datetime, timezone\n",
    "from weaviate.util import generate_uuid5\n",
    "\n",
    "movies = client.collections.get(\"MoviesMM\")\n",
    "with movies.batch.rate_limit(100) as batch:\n",
    "\n",
    "    for i, movie in enumerate(df.itertuples(index=False)):\n",
    "        if(i == 200): # load the first 200 movie objects\n",
    "            break\n",
    "\n",
    "        print(i, movie.title)\n",
    "\n",
    "        # Convert a JSON date to `datetime` and add time zone information\n",
    "        release_date = datetime.strptime(movie.release_date, \"%Y-%m-%d\").replace(\n",
    "            tzinfo=timezone.utc\n",
    "        )\n",
    "\n",
    "        poster_path = f\"https://image.tmdb.org/t/p/w600_and_h900_bestv2{movie.poster_path}\"\n",
    "        posterb64 = toBase64(f\"./posters/{movie.id}_poster.jpg\")\n",
    "\n",
    "        movie_obj = {\n",
    "            \"title\": movie.title,\n",
    "            \"overview\": movie.overview,\n",
    "            \"rating\": movie.vote_average,\n",
    "            \"release_date\": release_date,\n",
    "            \"tmdb_id\": movie.id, # https://www.themoviedb.org/movie/{tmdb_id}\n",
    "            \"poster_path\": poster_path,\n",
    "            \"poster\": posterb64\n",
    "        }\n",
    "\n",
    "        batch.add_object(\n",
    "            properties=movie_obj,\n",
    "            uuid=generate_uuid5(movie.id)\n",
    "        )\n"
   ]
  },
  {
   "cell_type": "markdown",
   "metadata": {},
   "source": [
    "### Check for batch errors"
   ]
  },
  {
   "cell_type": "code",
   "execution_count": null,
   "metadata": {},
   "outputs": [],
   "source": [
    "# Check for failed objects\n",
    "if len(movies.batch.failed_objects) > 0:\n",
    "    print(f\"Failed to import {len(movies.batch.failed_objects)} objects\")\n",
    "    for failed in movies.batch.failed_objects:\n",
    "        print(f\"e.g. Failed to import object with error: {failed.message}\")\n",
    "else:\n",
    "    print(\"No errors\")"
   ]
  },
  {
   "cell_type": "code",
   "execution_count": null,
   "metadata": {},
   "outputs": [],
   "source": [
    "movies.aggregate.over_all()"
   ]
  },
  {
   "cell_type": "code",
   "execution_count": null,
   "metadata": {},
   "outputs": [],
   "source": [
    "client.close()"
   ]
  }
 ],
 "metadata": {
  "kernelspec": {
   "display_name": "Python 3 (ipykernel)",
   "language": "python",
   "name": "python3"
  },
  "language_info": {
   "codemirror_mode": {
    "name": "ipython",
    "version": 3
   },
   "file_extension": ".py",
   "mimetype": "text/x-python",
   "name": "python",
   "nbconvert_exporter": "python",
   "pygments_lexer": "ipython3",
   "version": "3.11.8"
  }
 },
 "nbformat": 4,
 "nbformat_minor": 4
}
