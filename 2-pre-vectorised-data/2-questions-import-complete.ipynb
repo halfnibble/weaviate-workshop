{
 "cells": [
  {
   "cell_type": "code",
   "execution_count": null,
   "metadata": {},
   "outputs": [],
   "source": [
    "%store -r WEAVIATE_IP\n",
    "print(f\"WEAVIATE_IP:\\t{WEAVIATE_IP}\")"
   ]
  },
  {
   "cell_type": "markdown",
   "metadata": {},
   "source": [
    "## Connect"
   ]
  },
  {
   "cell_type": "code",
   "execution_count": null,
   "metadata": {},
   "outputs": [],
   "source": [
    "import weaviate\n",
    "\n",
    "client = weaviate.connect_to_custom(\n",
    "    http_host=WEAVIATE_IP, http_port=\"8080\",  http_secure=False,\n",
    "    grpc_host=WEAVIATE_IP, grpc_port=\"50051\", grpc_secure=False,\n",
    ")\n",
    "\n",
    "client.is_ready()"
   ]
  },
  {
   "cell_type": "markdown",
   "metadata": {},
   "source": [
    "## Load the data file"
   ]
  },
  {
   "cell_type": "code",
   "execution_count": null,
   "metadata": {},
   "outputs": [],
   "source": [
    "import json\n",
    "\n",
    "with open(\"./questions-with-vectors.json\") as file:\n",
    "    data_1k = json.load(file)\n",
    "\n",
    "print(json.dumps(data_1k[0], indent=2))"
   ]
  },
  {
   "cell_type": "markdown",
   "metadata": {},
   "source": [
    "## Create a new collection with a vectorizer"
   ]
  },
  {
   "cell_type": "code",
   "execution_count": null,
   "metadata": {},
   "outputs": [],
   "source": [
    "from weaviate.classes.config import Configure, Property, DataType\n",
    "\n",
    "client.collections.delete(\"Questions\")\n",
    "\n",
    "# Create a collection here - with text2vec_aws as a vectorizer\n",
    "client.collections.create(\n",
    "    name=\"Questions\",\n",
    "    \n",
    "    vectorizer_config=Configure.Vectorizer.text2vec_aws(\n",
    "        model=\"amazon.titan-embed-text-v1\",\n",
    "        region=\"us-west-2\",\n",
    "    ),\n",
    "\n",
    "    properties=[  # Define properties (Optional)\n",
    "        Property(name=\"question\", data_type=DataType.TEXT),\n",
    "        Property(name=\"answer\", data_type=DataType.TEXT),\n",
    "        Property(name=\"category\", data_type=DataType.TEXT, skip_vectorization=True),\n",
    "        Property(name=\"round\", data_type=DataType.TEXT, skip_vectorization=True),\n",
    "        Property(name=\"points\", data_type=DataType.NUMBER),\n",
    "        Property(name=\"airDate\", data_type=DataType.DATE),\n",
    "    ],\n",
    ")"
   ]
  },
  {
   "cell_type": "markdown",
   "metadata": {},
   "source": [
    "## Batch import data\n",
    "[Weaviate Docs - Batch import data](https://weaviate.io/developers/weaviate/manage-data/import)"
   ]
  },
  {
   "cell_type": "code",
   "execution_count": null,
   "metadata": {},
   "outputs": [],
   "source": [
    "print(f\"Importing {len(data_1k)} data items.\")\n",
    "\n",
    "counter = 0\n",
    "\n",
    "questions = client.collections.get(\"Questions\")\n",
    "with questions.batch.fixed_size(batch_size=100, concurrent_requests=2) as batch:\n",
    "    for item in data_1k:\n",
    "        vector = item[\"vector\"][\"default\"]\n",
    "        data_to_insert = {   \n",
    "            \"round\": item[\"round\"],\n",
    "            \"points\": item[\"points\"],\n",
    "            \"answer\": item[\"answer\"],\n",
    "            \"airDate\": item[\"airDate\"],\n",
    "            \"question\": item[\"question\"],\n",
    "            \"category\": item[\"category\"],\n",
    "        }\n",
    "\n",
    "        batch.add_object(\n",
    "            properties=data_to_insert,\n",
    "            vector=vector\n",
    "        )\n",
    "\n",
    "        counter+=1\n",
    "        if(counter % 100 == 0):\n",
    "            print(f\"Importing {counter}\")\n",
    "\n"
   ]
  },
  {
   "cell_type": "code",
   "execution_count": null,
   "metadata": {},
   "outputs": [],
   "source": [
    "# check for errors at the end\n",
    "if (len(questions.batch.failed_objects)==0):\n",
    "    print(\"Import complete - no errors\")\n",
    "else:\n",
    "    print(f\"Import complete - with errors {len(questions.batch.failed_objects)}\")\n",
    "    print(\"Last Error: \" + questions.batch.failed_objects[-1])\n",
    "\n",
    "print(f\"Imported {len(data_1k)} items.\")"
   ]
  },
  {
   "cell_type": "code",
   "execution_count": null,
   "metadata": {},
   "outputs": [],
   "source": [
    "questions.aggregate.over_all()"
   ]
  },
  {
   "cell_type": "markdown",
   "metadata": {},
   "source": [
    "## Preview data with vectors"
   ]
  },
  {
   "cell_type": "code",
   "execution_count": null,
   "metadata": {},
   "outputs": [],
   "source": [
    "response = questions.query.fetch_objects(limit=1, include_vector=True)\n",
    "\n",
    "print(response.objects[0].properties)\n",
    "print(response.objects[0].vector)"
   ]
  },
  {
   "cell_type": "markdown",
   "metadata": {},
   "source": [
    "## Close the client when done"
   ]
  },
  {
   "cell_type": "code",
   "execution_count": null,
   "metadata": {},
   "outputs": [],
   "source": [
    "client.close()"
   ]
  }
 ],
 "metadata": {
  "kernelspec": {
   "display_name": ".venv",
   "language": "python",
   "name": "python3"
  },
  "language_info": {
   "codemirror_mode": {
    "name": "ipython",
    "version": 3
   },
   "file_extension": ".py",
   "mimetype": "text/x-python",
   "name": "python",
   "nbconvert_exporter": "python",
   "pygments_lexer": "ipython3",
   "version": "3.11.8"
  }
 },
 "nbformat": 4,
 "nbformat_minor": 2
}
