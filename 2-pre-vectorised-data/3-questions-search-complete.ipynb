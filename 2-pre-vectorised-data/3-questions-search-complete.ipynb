{
 "cells": [
  {
   "cell_type": "code",
   "execution_count": null,
   "metadata": {},
   "outputs": [],
   "source": [
    "%store -r WEAVIATE_IP\n",
    "from boto3 import Session\n",
    "\n",
    "session = Session()\n",
    "credentials = session.get_credentials()\n",
    "current_credentials = credentials.get_frozen_credentials()\n",
    "\n",
    "AWS_ACCESS_KEY = current_credentials.access_key\n",
    "AWS_SECRET_KEY = current_credentials.secret_key\n",
    "AWS_SECRET_TOKEN = current_credentials.token\n",
    "print(f\"AWS_ACCESS_KEY:\\t{AWS_ACCESS_KEY}\")\n",
    "print(f\"AWS_SECRET_KEY:\\t{AWS_SECRET_KEY}\")\n",
    "print(f\"AWS_SECRET_TOKEN:\\t{AWS_SECRET_TOKEN}\")\n",
    "print(f\"WEAVIATE_IP:\\t{WEAVIATE_IP}\")"
   ]
  },
  {
   "cell_type": "markdown",
   "metadata": {},
   "source": [
    "## Connect"
   ]
  },
  {
   "cell_type": "code",
   "execution_count": null,
   "metadata": {},
   "outputs": [],
   "source": [
    "import weaviate\n",
    "\n",
    "client = weaviate.connect_to_custom(\n",
    "    http_host=WEAVIATE_IP, http_port=\"8080\",  http_secure=False,\n",
    "    grpc_host=WEAVIATE_IP, grpc_port=\"50051\", grpc_secure=False,\n",
    "\n",
    "    headers={\n",
    "        \"X-AWS-Access-Key\": AWS_ACCESS_KEY,\n",
    "        \"X-AWS-Secret-Key\": AWS_SECRET_KEY,\n",
    "        \"X-AWS-Session-Token\": AWS_SECRET_TOKEN,\n",
    "    }\n",
    ")\n",
    "\n",
    "client.is_ready()"
   ]
  },
  {
   "cell_type": "markdown",
   "metadata": {},
   "source": [
    "## Preview data"
   ]
  },
  {
   "cell_type": "code",
   "execution_count": null,
   "metadata": {},
   "outputs": [],
   "source": [
    "questions = client.collections.get(\"Questions\")\n",
    "\n",
    "response = questions.query.fetch_objects(\n",
    "    limit=5\n",
    ")\n",
    "\n",
    "for item in response.objects:\n",
    "    print(\"question:\", item.properties[\"question\"])\n",
    "    print(\"answer:  \", item.properties[\"answer\"])\n",
    "    print(\"points:  \", item.properties[\"points\"])\n",
    "    print(\"category:\", item.properties[\"category\"])\n",
    "    print(\"round:   \", item.properties[\"round\"])\n",
    "    print(\"airDate: \", item.properties[\"airDate\"], '\\n')"
   ]
  },
  {
   "cell_type": "markdown",
   "metadata": {},
   "source": [
    "## Vector search"
   ]
  },
  {
   "cell_type": "code",
   "execution_count": null,
   "metadata": {},
   "outputs": [],
   "source": [
    "questions = client.collections.get(\"Questions\")\n",
    "\n",
    "response = questions.query.near_text(\n",
    "    query=\"TV characters\",\n",
    "    limit=5\n",
    ")\n",
    "\n",
    "for item in response.objects:\n",
    "    print(item.properties[\"question\"])\n",
    "    print(item.properties[\"answer\"])\n",
    "    print(item.properties[\"category\"], \"\\n\")"
   ]
  },
  {
   "cell_type": "code",
   "execution_count": null,
   "metadata": {},
   "outputs": [],
   "source": [
    "questions = client.collections.get(\"Questions\")\n",
    "\n",
    "response = questions.query.hybrid(\n",
    "    query=\"TV characters\",\n",
    "    limit=5\n",
    ")\n",
    "\n",
    "for item in response.objects:\n",
    "    print(item.properties[\"question\"])\n",
    "    print(item.properties[\"answer\"])\n",
    "    print(item.properties[\"category\"], \"\\n\")"
   ]
  },
  {
   "cell_type": "markdown",
   "metadata": {},
   "source": [
    "## Filters"
   ]
  },
  {
   "cell_type": "code",
   "execution_count": null,
   "metadata": {},
   "outputs": [],
   "source": [
    "from weaviate.classes.query import Filter\n",
    "\n",
    "wiki = client.collections.get(\"Questions\")\n",
    "\n",
    "response = wiki.query.fetch_objects(\n",
    "    filters=Filter.by_property(\"category\").like(\"TELEVISION\"),\n",
    "    limit=5\n",
    ")\n",
    "\n",
    "for item in response.objects:\n",
    "    print(item.properties)"
   ]
  },
  {
   "cell_type": "markdown",
   "metadata": {},
   "source": [
    "### Filter by date\n",
    "\n",
    "* Use `datetime`:\n",
    "```\n",
    "datetime(2000, 1, 1).replace(tzinfo=timezone.utc)\n",
    "```\n",
    "\n",
    "* or formatted string:\n",
    "```\n",
    "\"2000-01-01T00:00:00+00:00\"\n",
    "```"
   ]
  },
  {
   "cell_type": "code",
   "execution_count": null,
   "metadata": {},
   "outputs": [],
   "source": [
    "from datetime import datetime, timezone\n",
    "from weaviate.classes.query import Filter\n",
    "\n",
    "questions = client.collections.get(\"Questions\")\n",
    "\n",
    "response = questions.query.fetch_objects(\n",
    "    limit=5,\n",
    "    filters= # in the year 2000\n",
    "        Filter.by_property(\"airDate\").greater_or_equal(datetime(2000, 1, 1).replace(tzinfo=timezone.utc)) &\n",
    "        Filter.by_property(\"airDate\").less_than(datetime(2001, 1, 1).replace(tzinfo=timezone.utc))\n",
    "        \n",
    "    # filters=\n",
    "    #     Filter.by_property(\"airDate\").greater_or_equal(\"2000-01-01T00:00:00+00:00\") &\n",
    "    #     Filter.by_property(\"airDate\").less_than(\"2001-01-01T00:00:00+00:00\")\n",
    ")\n",
    "\n",
    "for item in response.objects:\n",
    "    print(item.properties)"
   ]
  },
  {
   "cell_type": "markdown",
   "metadata": {},
   "source": [
    "## Close the client when done"
   ]
  },
  {
   "cell_type": "code",
   "execution_count": null,
   "metadata": {},
   "outputs": [],
   "source": [
    "client.close()"
   ]
  }
 ],
 "metadata": {
  "kernelspec": {
   "display_name": ".venv",
   "language": "python",
   "name": "python3"
  },
  "language_info": {
   "codemirror_mode": {
    "name": "ipython",
    "version": 3
   },
   "file_extension": ".py",
   "mimetype": "text/x-python",
   "name": "python",
   "nbconvert_exporter": "python",
   "pygments_lexer": "ipython3",
   "version": "3.11.8"
  }
 },
 "nbformat": 4,
 "nbformat_minor": 2
}
