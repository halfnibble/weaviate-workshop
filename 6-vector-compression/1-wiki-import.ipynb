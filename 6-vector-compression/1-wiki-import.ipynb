{
 "cells": [
  {
   "cell_type": "code",
   "execution_count": null,
   "metadata": {},
   "outputs": [],
   "source": [
    "%store -r WEAVIATE_IP\n",
    "from boto3 import Session\n",
    "\n",
    "session = Session()\n",
    "credentials = session.get_credentials()\n",
    "current_credentials = credentials.get_frozen_credentials()\n",
    "\n",
    "AWS_ACCESS_KEY = current_credentials.access_key\n",
    "AWS_SECRET_KEY = current_credentials.secret_key\n",
    "AWS_SECRET_TOKEN = current_credentials.token\n",
    "print(f\"AWS_ACCESS_KEY:\\t{AWS_ACCESS_KEY}\")\n",
    "print(f\"AWS_SECRET_KEY:\\t{AWS_SECRET_KEY}\")\n",
    "print(f\"AWS_SECRET_TOKEN:\\t{AWS_SECRET_TOKEN}\")\n",
    "print(f\"WEAVIATE_IP:\\t{WEAVIATE_IP}\")"
   ]
  },
  {
   "cell_type": "markdown",
   "metadata": {},
   "source": [
    "## Connect to a WCS instance of Weaviate\n",
    "> this way we will see the number of used vector dimensions\n",
    "\n",
    "* Make sure to update the cluster_url and your WCS key"
   ]
  },
  {
   "cell_type": "code",
   "execution_count": null,
   "metadata": {},
   "outputs": [],
   "source": [
    "import weaviate\n",
    "\n",
    "client = weaviate.connect_to_custom(\n",
    "    http_host=WEAVIATE_IP, http_port=\"8080\",  http_secure=False,\n",
    "    grpc_host=WEAVIATE_IP, grpc_port=\"50051\", grpc_secure=False,\n",
    "\n",
    "    headers={\n",
    "        \"X-AWS-Access-Key\": AWS_ACCESS_KEY,\n",
    "        \"X-AWS-Secret-Key\": AWS_SECRET_KEY,\n",
    "        \"X-AWS-Session-Token\": AWS_SECRET_TOKEN,\n",
    "    }\n",
    ")\n",
    "\n",
    "client.is_ready()"
   ]
  },
  {
   "cell_type": "markdown",
   "metadata": {},
   "source": [
    "## Adding PQ configuration to the Wikipedia example\n",
    "In this step, we will use:\n",
    "* named vectors (\"text_vector\")\n",
    "* PQ configuration on `vector_index_config`\n",
    "\n",
    "```\n",
    "vector_index_config=Configure.VectorIndex.hnsw(\n",
    "    quantizer=Configure.VectorIndex.Quantizer.pq(\n",
    "        segments=128, # 768/6\n",
    "        training_limit=25000\n",
    "    )\n",
    "),\n",
    "```"
   ]
  },
  {
   "cell_type": "code",
   "execution_count": null,
   "metadata": {},
   "outputs": [],
   "source": [
    "from weaviate.classes.config import Configure\n",
    "\n",
    "# client.collections.delete(\"WikipediaPQ\")\n",
    "\n",
    "# Create a collection here - with Cohere as a vectorizer\n",
    "client.collections.create(\n",
    "    name=\"WikipediaPQ\",\n",
    "\n",
    "    # TODO: Note different syntax when we use named vectors\n",
    "    vectorizer_config=[\n",
    "        Configure.NamedVectors.text2vec_aws(\n",
    "            name=\"text_vector\",\n",
    "            source_properties=[\"text\"],\n",
    "\n",
    "            model=\"embed-multilingual-v2.0\",\n",
    "            region=\"us-west-2\",\n",
    "            # region=\"us-east-1\",\n",
    "\n",
    "            # AutoPQ - this only works with Async Indexing\n",
    "            vector_index_config=Configure.VectorIndex.hnsw(\n",
    "                # TODO: add pq quantizer and set segments to 128\n",
    "                # quantizer=Configure.VectorIndex.\n",
    "            ),\n",
    "    )],\n",
    ")"
   ]
  },
  {
   "cell_type": "markdown",
   "metadata": {},
   "source": [
    "## The rest is the same"
   ]
  },
  {
   "cell_type": "code",
   "execution_count": null,
   "metadata": {},
   "outputs": [],
   "source": [
    "!pip install -U -q datasets tqdm"
   ]
  },
  {
   "cell_type": "code",
   "execution_count": null,
   "metadata": {},
   "outputs": [],
   "source": [
    "from datasets import load_dataset\n",
    "from tqdm import tqdm\n",
    "\n",
    "def import_wiki_data(lang, lang_id, max_rows, skip_rows=0):\n",
    "    print(f\"Importing {max_rows} data items for {lang}\")\n",
    "\n",
    "    dataset = load_dataset(f\"Cohere/wikipedia-22-12-{lang}-embeddings\", split=\"train\", streaming=True)\n",
    "    dataset = dataset.skip(skip_rows)\n",
    "\n",
    "    counter = 0\n",
    "    counter = skip_rows\n",
    "\n",
    "    wikipedia = client.collections.get(\"WikipediaPQ\")\n",
    "\n",
    "    with wikipedia.batch.fixed_size(batch_size=5000, concurrent_requests=2) as batch:\n",
    "        for item in tqdm(dataset, initial=skip_rows, total=max_rows):\n",
    "            vector = item[\"emb\"]\n",
    "            data_to_insert = {   \n",
    "                \"text\": item[\"text\"],\n",
    "                \"wiki_id\": item[\"wiki_id\"],\n",
    "                \"title\": item[\"title\"],\n",
    "                \"url\": item[\"url\"],\n",
    "                \"views\": item[\"views\"],\n",
    "                \"lang\": lang,\n",
    "                \"lang_id\": lang_id,\n",
    "            }\n",
    "\n",
    "            batch.add_object(\n",
    "                properties=data_to_insert,\n",
    "                \n",
    "                # TODO: Note different syntax when we use named vectors\n",
    "                vector={\n",
    "                    \"text_vector\": vector   \n",
    "                }\n",
    "            )\n",
    "            \n",
    "            counter += 1\n",
    "            if counter >= max_rows:\n",
    "                break\n",
    "    \n",
    "    # check for errors at the end\n",
    "    if (len(wikipedia.batch.failed_objects)>0):\n",
    "        print(\"Final error check\")\n",
    "        print(f\"Some errors {len(wikipedia.batch.failed_objects)}\")\n",
    "        print(wikipedia.batch.failed_objects[-1])\n",
    "    \n",
    "    print(f\"Imported {counter} items for {lang}\")\n",
    "    print(\"-----------------------------------\")"
   ]
  },
  {
   "cell_type": "code",
   "execution_count": null,
   "metadata": {},
   "outputs": [],
   "source": [
    "import_per_country = 10_000\n",
    "\n",
    "import_wiki_data(\"en\", 0, import_per_country, 0)\n",
    "import_wiki_data(\"de\", 1, import_per_country, 0)\n",
    "import_wiki_data(\"fr\", 2, import_per_country, 0)\n",
    "# import_wiki_data(\"es\", 3, import_per_country, 0)\n",
    "# import_wiki_data(\"it\", 4, import_per_country, 0)"
   ]
  },
  {
   "cell_type": "code",
   "execution_count": null,
   "metadata": {},
   "outputs": [],
   "source": [
    "wikipedia = client.collections.get(\"WikipediaPQ\")\n",
    "wikipedia.aggregate.over_all()"
   ]
  },
  {
   "cell_type": "code",
   "execution_count": null,
   "metadata": {},
   "outputs": [],
   "source": [
    "client.close()"
   ]
  }
 ],
 "metadata": {
  "kernelspec": {
   "display_name": "Python 3 (ipykernel)",
   "language": "python",
   "name": "python3"
  },
  "language_info": {
   "codemirror_mode": {
    "name": "ipython",
    "version": 3
   },
   "file_extension": ".py",
   "mimetype": "text/x-python",
   "name": "python",
   "nbconvert_exporter": "python",
   "pygments_lexer": "ipython3",
   "version": "3.10.14"
  }
 },
 "nbformat": 4,
 "nbformat_minor": 4
}
