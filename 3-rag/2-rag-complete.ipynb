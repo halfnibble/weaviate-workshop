{
 "cells": [
  {
   "cell_type": "code",
   "execution_count": null,
   "metadata": {},
   "outputs": [],
   "source": [
    "%store -r WEAVIATE_IP\n",
    "from boto3 import Session\n",
    "\n",
    "session = Session()\n",
    "credentials = session.get_credentials()\n",
    "current_credentials = credentials.get_frozen_credentials()\n",
    "\n",
    "AWS_ACCESS_KEY = current_credentials.access_key\n",
    "AWS_SECRET_KEY = current_credentials.secret_key\n",
    "AWS_SECRET_TOKEN = current_credentials.token\n",
    "print(f\"AWS_ACCESS_KEY:\\t{AWS_ACCESS_KEY}\")\n",
    "print(f\"AWS_SECRET_KEY:\\t{AWS_SECRET_KEY}\")\n",
    "print(f\"AWS_SECRET_TOKEN:\\t{AWS_SECRET_TOKEN}\")\n",
    "print(f\"WEAVIATE_IP:\\t{WEAVIATE_IP}\")"
   ]
  },
  {
   "cell_type": "markdown",
   "metadata": {},
   "source": [
    "## Connect"
   ]
  },
  {
   "cell_type": "code",
   "execution_count": null,
   "metadata": {},
   "outputs": [],
   "source": [
    "import weaviate\n",
    "\n",
    "client = weaviate.connect_to_custom(\n",
    "    http_host=WEAVIATE_IP, http_port=\"8080\",  http_secure=False,\n",
    "    grpc_host=WEAVIATE_IP, grpc_port=\"50051\", grpc_secure=False,\n",
    "\n",
    "    headers={\n",
    "        \"X-AWS-Access-Key\": AWS_ACCESS_KEY,\n",
    "        \"X-AWS-Secret-Key\": AWS_SECRET_KEY,\n",
    "        \"X-AWS-Session-Token\": AWS_SECRET_TOKEN,\n",
    "    },\n",
    "\n",
    "    additional_config=weaviate.config.AdditionalConfig(timeout=(500, 1500))\n",
    ")\n",
    "\n",
    "client.is_ready()"
   ]
  },
  {
   "cell_type": "markdown",
   "metadata": {},
   "source": [
    "## RAG - single prompt"
   ]
  },
  {
   "cell_type": "code",
   "execution_count": null,
   "metadata": {},
   "outputs": [],
   "source": [
    "papers = client.collections.get(\"Papers\")\n",
    "\n",
    "response = papers.query.near_text(\"challenges of zero shot training\", limit=5)\n",
    "\n",
    "for item in response.objects:\n",
    "    print(item.properties[\"chunk\"])"
   ]
  },
  {
   "cell_type": "code",
   "execution_count": null,
   "metadata": {},
   "outputs": [],
   "source": [
    "papers = client.collections.get(\"Papers\")\n",
    "\n",
    "response = papers.generate.near_text(\n",
    "    \"challenges of zero shot training\",\n",
    "    limit=5,\n",
    "    single_prompt=\"What are the challenges of zero shot training? Please answer based on the following chunk: {chunk}\"\n",
    ")\n",
    "\n",
    "for item in response.objects:\n",
    "    print(item.properties[\"chunk\"])\n",
    "    print(item.generated)\n",
    "    print(\"--------------------\\n\")"
   ]
  },
  {
   "cell_type": "code",
   "execution_count": null,
   "metadata": {},
   "outputs": [],
   "source": [
    "papers = client.collections.get(\"Papers\")\n",
    "\n",
    "response = papers.generate.near_text(\n",
    "    \"zero shot training\",\n",
    "    limit=5,\n",
    "    single_prompt=\"Please explain what the following chunk of text talks about in the context of zero-shot training: {chunk}\"\n",
    ")\n",
    "\n",
    "for item in response.objects:\n",
    "    print(item.properties[\"chunk\"])\n",
    "    print(item.generated)\n",
    "    print(\"----------------------------------------\\n\")"
   ]
  },
  {
   "cell_type": "markdown",
   "metadata": {},
   "source": [
    "## RAG - group task"
   ]
  },
  {
   "cell_type": "code",
   "execution_count": null,
   "metadata": {},
   "outputs": [],
   "source": [
    "papers = client.collections.get(\"Papers\")\n",
    "\n",
    "response = papers.generate.near_text(\n",
    "    \"difficulties and challenges of zero shot training\",\n",
    "    limit=5,\n",
    "    grouped_task=\"What can you tell me about zero shot training? Please answer based on the provided content\",\n",
    ")\n",
    "\n",
    "for item in response.objects:\n",
    "    print(item.properties[\"chunk\"])\n",
    "    \n",
    "print(\"----------------------------------------\\n\")\n",
    "print(response.generated)"
   ]
  },
  {
   "cell_type": "code",
   "execution_count": null,
   "metadata": {},
   "outputs": [],
   "source": [
    "papers = client.collections.get(\"Papers\")\n",
    "\n",
    "response = papers.generate.near_text(\n",
    "    \"challenges of zero shot training\",\n",
    "    limit=5,\n",
    "    grouped_task=\"What can you tell me about zero shot training? Please answer based on the provided content\",\n",
    "    grouped_properties=[\"chunk\", \"title\"]\n",
    ")\n",
    "\n",
    "for item in response.objects:\n",
    "    print(item.properties[\"chunk\"])\n",
    "    \n",
    "print(\"----------------------------------------\")\n",
    "print(response.generated)"
   ]
  },
  {
   "cell_type": "markdown",
   "metadata": {},
   "source": [
    "## Close the client when done"
   ]
  },
  {
   "cell_type": "code",
   "execution_count": null,
   "metadata": {},
   "outputs": [],
   "source": [
    "client.close()"
   ]
  }
 ],
 "metadata": {
  "kernelspec": {
   "display_name": "Python 3 (ipykernel)",
   "language": "python",
   "name": "python3"
  },
  "language_info": {
   "codemirror_mode": {
    "name": "ipython",
    "version": 3
   },
   "file_extension": ".py",
   "mimetype": "text/x-python",
   "name": "python",
   "nbconvert_exporter": "python",
   "pygments_lexer": "ipython3",
   "version": "3.10.14"
  }
 },
 "nbformat": 4,
 "nbformat_minor": 4
}
