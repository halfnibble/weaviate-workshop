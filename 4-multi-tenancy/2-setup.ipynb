{
 "cells": [
  {
   "cell_type": "code",
   "execution_count": null,
   "metadata": {},
   "outputs": [],
   "source": [
    "%store -r WEAVIATE_IP\n",
    "from boto3 import Session\n",
    "\n",
    "session = Session()\n",
    "credentials = session.get_credentials()\n",
    "current_credentials = credentials.get_frozen_credentials()\n",
    "\n",
    "AWS_ACCESS_KEY = current_credentials.access_key\n",
    "AWS_SECRET_KEY = current_credentials.secret_key\n",
    "AWS_SECRET_TOKEN = current_credentials.token\n",
    "print(f\"AWS_ACCESS_KEY:\\t{AWS_ACCESS_KEY}\")\n",
    "print(f\"AWS_SECRET_KEY:\\t{AWS_SECRET_KEY}\")\n",
    "print(f\"AWS_SECRET_TOKEN:\\t{AWS_SECRET_TOKEN}\")\n",
    "print(f\"WEAVIATE_IP:\\t{WEAVIATE_IP}\")"
   ]
  },
  {
   "cell_type": "markdown",
   "metadata": {},
   "source": [
    "## Connect"
   ]
  },
  {
   "cell_type": "code",
   "execution_count": null,
   "metadata": {},
   "outputs": [],
   "source": [
    "import weaviate\n",
    "\n",
    "client = weaviate.connect_to_custom(\n",
    "    http_host=WEAVIATE_IP, http_port=\"8080\",  http_secure=False,\n",
    "    grpc_host=WEAVIATE_IP, grpc_port=\"50051\", grpc_secure=False,\n",
    "\n",
    "    headers={\n",
    "        \"X-AWS-Access-Key\": AWS_ACCESS_KEY,\n",
    "        \"X-AWS-Secret-Key\": AWS_SECRET_KEY,\n",
    "        \"X-AWS-Session-Token\": AWS_SECRET_TOKEN,\n",
    "    }\n",
    ")\n",
    "\n",
    "client.is_ready()"
   ]
  },
  {
   "cell_type": "markdown",
   "metadata": {},
   "source": [
    "## Create Tenant-ready collection"
   ]
  },
  {
   "cell_type": "code",
   "execution_count": null,
   "metadata": {},
   "outputs": [],
   "source": [
    "from weaviate.classes.config import Configure\n",
    "\n",
    "if (client.collections.exists(\"PapersTen\")):\n",
    "    client.collections.delete(\"PapersTen\")\n",
    "\n",
    "client.collections.create(\n",
    "    \"PapersTen\",\n",
    "\n",
    "    vectorizer_config=Configure.Vectorizer.text2vec_aws(\n",
    "        model=\"amazon.titan-embed-text-v1\",\n",
    "        # region=\"eu-central-1\",\n",
    "        region=\"us-east-1\",\n",
    "    ),\n",
    "    \n",
    "    generative_config=Configure.Generative.aws(\n",
    "        region=\"us-east-1\",\n",
    "        model=\"cohere.command-r-plus-v1:0\"\n",
    "    ),\n",
    "\n",
    "    multi_tenancy_config=Configure.multi_tenancy(True)\n",
    ")"
   ]
  },
  {
   "cell_type": "markdown",
   "metadata": {},
   "source": [
    "## List Tenants"
   ]
  },
  {
   "cell_type": "code",
   "execution_count": null,
   "metadata": {},
   "outputs": [],
   "source": [
    "papers = client.collections.get(\"PapersTen\")\n",
    "papers.tenants.get()"
   ]
  },
  {
   "cell_type": "markdown",
   "metadata": {},
   "source": [
    "## Close the client when done"
   ]
  },
  {
   "cell_type": "code",
   "execution_count": null,
   "metadata": {},
   "outputs": [],
   "source": [
    "client.close()"
   ]
  }
 ],
 "metadata": {
  "kernelspec": {
   "display_name": "Python 3 (ipykernel)",
   "language": "python",
   "name": "python3"
  },
  "language_info": {
   "codemirror_mode": {
    "name": "ipython",
    "version": 3
   },
   "file_extension": ".py",
   "mimetype": "text/x-python",
   "name": "python",
   "nbconvert_exporter": "python",
   "pygments_lexer": "ipython3",
   "version": "3.10.14"
  }
 },
 "nbformat": 4,
 "nbformat_minor": 4
}
